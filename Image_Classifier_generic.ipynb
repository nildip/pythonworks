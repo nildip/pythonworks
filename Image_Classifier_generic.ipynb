{
 "cells": [
  {
   "cell_type": "code",
   "execution_count": 1,
   "metadata": {},
   "outputs": [
    {
     "name": "stderr",
     "output_type": "stream",
     "text": [
      "Using TensorFlow backend.\n"
     ]
    }
   ],
   "source": [
    "# loading required libraries\n",
    "import numpy as np\n",
    "\n",
    "from keras.datasets import mnist\n",
    "from keras.models import Sequential\n",
    "from keras.layers import Dense\n",
    "from keras.layers import Dropout\n",
    "from keras.layers import Flatten\n",
    "from keras.layers.convolutional import Conv2D\n",
    "from keras.layers.convolutional import MaxPooling2D\n",
    "from keras.utils import np_utils\n",
    "from keras import backend as K\n",
    "K.set_image_dim_ordering('th')"
   ]
  },
  {
   "cell_type": "code",
   "execution_count": 2,
   "metadata": {},
   "outputs": [
    {
     "name": "stdout",
     "output_type": "stream",
     "text": [
      "Downloading data from https://s3.amazonaws.com/img-datasets/mnist.npz\n",
      "11247616/11490434 [============================>.] - ETA: 0s"
     ]
    }
   ],
   "source": [
    "# loading the data\n",
    "(X_train, y_train), (X_test, y_test) = mnist.load_data()"
   ]
  },
  {
   "cell_type": "code",
   "execution_count": 3,
   "metadata": {
    "collapsed": true
   },
   "outputs": [],
   "source": [
    "# defining parameter for the type of model to run - 'CNN'/'NN'\n",
    "model_type = 'CNN'"
   ]
  },
  {
   "cell_type": "code",
   "execution_count": 4,
   "metadata": {
    "collapsed": true
   },
   "outputs": [],
   "source": [
    "# data preprocessing\n",
    "if model_type == 'CNN':\n",
    "    # reshape to be [samples][pixels][width][height]\n",
    "    X_train = X_train.reshape(X_train.shape[0], 1, 28, 28).astype('float32')\n",
    "    X_test = X_test.reshape(X_test.shape[0], 1, 28, 28).astype('float32')\n",
    "else:\n",
    "    # flatten 28x28 images to 784x1 dimensional vector\n",
    "    num_pixels = X_train.shape[1] * X_train.shape[2]\n",
    "    X_train = X_train.reshape(X_train.shape[0], num_pixels).astype('float32')\n",
    "    X_test = X_test.reshape(X_test.shape[0], num_pixels).astype('float32')\n",
    "\n",
    "# normalizing the values\n",
    "X_train = X_train / 255\n",
    "X_test = X_test / 255\n",
    "\n",
    "# one hot encode output\n",
    "y_train = np_utils.to_categorical(y_train)\n",
    "y_test = np_utils.to_categorical(y_test)\n",
    "num_classes = y_test.shape[1]"
   ]
  },
  {
   "cell_type": "code",
   "execution_count": 5,
   "metadata": {
    "collapsed": true
   },
   "outputs": [],
   "source": [
    "# building the base NN model\n",
    "def nn_model():\n",
    "    model = Sequential()\n",
    "    model.add(Conv2D(32, (5, 5), input_shape=(1, 28, 28), activation='relu'))\n",
    "    model.add(MaxPooling2D(pool_size=(2, 2)))\n",
    "    model.add(Dropout(0.2))\n",
    "    model.add(Flatten())\n",
    "    model.add(Dense(128, activation='relu'))\n",
    "    model.add(Dense(num_classes, activation='softmax'))\n",
    "    # compile model\n",
    "    model.compile(loss='categorical_crossentropy', optimizer='adam', metrics=['accuracy'])\n",
    "    return model"
   ]
  },
  {
   "cell_type": "code",
   "execution_count": 6,
   "metadata": {
    "collapsed": true
   },
   "outputs": [],
   "source": [
    "# building the CNN model\n",
    "def cnn_model():\n",
    "    model = Sequential()\n",
    "    model.add(Conv2D(32, (5, 5), input_shape=(1, 28, 28), activation='relu'))\n",
    "    model.add(MaxPooling2D(pool_size=(2, 2)))\n",
    "    model.add(Dropout(0.2))\n",
    "    model.add(Flatten())\n",
    "    model.add(Dense(128, activation='relu'))\n",
    "    model.add(Dense(num_classes, activation='softmax'))\n",
    "    # compile model\n",
    "    model.compile(loss='categorical_crossentropy', optimizer='adam', metrics=['accuracy'])\n",
    "    return model"
   ]
  },
  {
   "cell_type": "code",
   "execution_count": 7,
   "metadata": {},
   "outputs": [
    {
     "name": "stdout",
     "output_type": "stream",
     "text": [
      "Train on 60000 samples, validate on 10000 samples\n",
      "Epoch 1/10\n",
      "60000/60000 [==============================] - 197s - loss: 0.2462 - acc: 0.9303 - val_loss: 0.0830 - val_acc: 0.9742\n",
      "Epoch 2/10\n",
      "60000/60000 [==============================] - 196s - loss: 0.0731 - acc: 0.9780 - val_loss: 0.0562 - val_acc: 0.9804\n",
      "Epoch 3/10\n",
      "60000/60000 [==============================] - 188s - loss: 0.0511 - acc: 0.9838 - val_loss: 0.0431 - val_acc: 0.9853\n",
      "Epoch 4/10\n",
      "60000/60000 [==============================] - 187s - loss: 0.0415 - acc: 0.9873 - val_loss: 0.0405 - val_acc: 0.9864\n",
      "Epoch 5/10\n",
      "60000/60000 [==============================] - 188s - loss: 0.0336 - acc: 0.9900 - val_loss: 0.0385 - val_acc: 0.9869\n",
      "Epoch 6/10\n",
      "60000/60000 [==============================] - 187s - loss: 0.0268 - acc: 0.9914 - val_loss: 0.0440 - val_acc: 0.9863\n",
      "Epoch 7/10\n",
      "60000/60000 [==============================] - 189s - loss: 0.0236 - acc: 0.9920 - val_loss: 0.0371 - val_acc: 0.9882\n",
      "Epoch 8/10\n",
      "60000/60000 [==============================] - 195s - loss: 0.0192 - acc: 0.9935 - val_loss: 0.0337 - val_acc: 0.9877\n",
      "Epoch 9/10\n",
      "60000/60000 [==============================] - 199s - loss: 0.0175 - acc: 0.9942 - val_loss: 0.0334 - val_acc: 0.9890\n",
      "Epoch 10/10\n",
      "60000/60000 [==============================] - 198s - loss: 0.0144 - acc: 0.9953 - val_loss: 0.0378 - val_acc: 0.9876\n",
      "Model Error: 1.24%\n"
     ]
    }
   ],
   "source": [
    "if model_type == 'CNN':\n",
    "    model = cnn_model()\n",
    "else:\n",
    "    model = nn_model()\n",
    "# Fit the model\n",
    "model.fit(X_train, y_train, validation_data=(X_test, y_test), epochs=10, batch_size=200)\n",
    "# Final evaluation of the model\n",
    "scores = model.evaluate(X_test, y_test, verbose=0)\n",
    "print(\"Model Error: %.2f%%\" % (100-scores[1]*100))"
   ]
  }
 ],
 "metadata": {
  "kernelspec": {
   "display_name": "Python 3",
   "language": "python",
   "name": "python3"
  },
  "language_info": {
   "codemirror_mode": {
    "name": "ipython",
    "version": 3
   },
   "file_extension": ".py",
   "mimetype": "text/x-python",
   "name": "python",
   "nbconvert_exporter": "python",
   "pygments_lexer": "ipython3",
   "version": "3.5.4"
  }
 },
 "nbformat": 4,
 "nbformat_minor": 2
}
